{
 "cells": [
  {
   "cell_type": "markdown",
   "metadata": {},
   "source": [
    "# Essential Python"
   ]
  },
  {
   "cell_type": "markdown",
   "metadata": {},
   "source": [
    "# 1. Basic commands"
   ]
  },
  {
   "cell_type": "code",
   "execution_count": null,
   "metadata": {
    "collapsed": true
   },
   "outputs": [],
   "source": [
    "import os\n",
    "# Change to a specific directory\n",
    "#os.chdir(\"C:\\\\backup\\\\Ganesh-backup\\\\CloudSSA\\\\CTSP\\\\python\")\n",
    "\n",
    "# Get current working directory\n",
    "#os.getcwd()\n",
    "\n",
    "# List all files in a directory\n",
    "#os.listdir()"
   ]
  },
  {
   "cell_type": "markdown",
   "metadata": {},
   "source": [
    "# 2. Tuples, lists and dictionaries\n",
    "The 3 basic data types in Python are\n",
    "\n",
    "- Tuples\n",
    "- List\n",
    "- Dictionary"
   ]
  },
  {
   "cell_type": "code",
   "execution_count": null,
   "metadata": {
    "collapsed": true
   },
   "outputs": [],
   "source": [
    "# Tuples are enclosed in paranthesis\n",
    "#mytuple=(1,3,7,6,\"test\")\n",
    "#print(mytuple)\n",
    "\n",
    "# Lists are enclosed in square brackeys\n",
    "#mylist = [1, 2, 7, 4, 12 ]\n",
    "#print(mylist)\n",
    "\n",
    "\n",
    "#Dictionary - These are similar to name-value pairs\n",
    "#mydict={'Name':'Ganesh','Age':54,'Occupation':'Engineer'}\n",
    "#mydict\n",
    "#mydict['Age']\n",
    "\n",
    "# No of elements in tuples, lists and dictionaries can be got with len()\n",
    "print(len(mytuple))\n",
    "print(len(mylist))\n",
    "print(len(mydict))"
   ]
  },
  {
   "cell_type": "markdown",
   "metadata": {},
   "source": [
    "# 3. Adding elements to tuples, lists and dictionaries"
   ]
  },
  {
   "cell_type": "code",
   "execution_count": null,
   "metadata": {
    "collapsed": true
   },
   "outputs": [],
   "source": [
    "# Tuples are immutable. You cannot add to the tuple\n",
    "# Accessing tuples\n",
    "#mytuple[0]\n",
    "#Slices 2nd upto 4th\n",
    "#mytuple[2:4]\n",
    "\n",
    "# Accessing Lists \n",
    "# You can add to lists\n",
    "#mylist.append(20)\n",
    "#print(mylist)\n",
    "# Print 3rd element . Index starts from 0\n",
    "#mylist[2]\n",
    "#mylist[3:6]\n",
    "#mylist[-2]\n",
    "#mylist[-5:-2]\n",
    "\n",
    "# Dictionaries\n",
    "#mydict.items()\n",
    "#mydict.keys()\n"
   ]
  },
  {
   "cell_type": "markdown",
   "metadata": {},
   "source": [
    "# 4. Accessing help\n",
    "Help on any python command can be obtained as below."
   ]
  },
  {
   "cell_type": "code",
   "execution_count": null,
   "metadata": {
    "collapsed": true
   },
   "outputs": [],
   "source": [
    "import pandas as pd\n",
    "#Help\n",
    "#help(len)\n",
    "#len?\n",
    "#help(pd.concat)\n",
    "#pd.merge?\n"
   ]
  },
  {
   "cell_type": "markdown",
   "metadata": {},
   "source": [
    "# 5.  Type of a variable"
   ]
  },
  {
   "cell_type": "code",
   "execution_count": null,
   "metadata": {
    "collapsed": true
   },
   "outputs": [],
   "source": [
    "#a=5.4\n",
    "#print(type(a))\n",
    "#b='A string'\n",
    "#print(type(b))\n",
    "#type(mytuple)\n",
    "#type(mylist)\n",
    "#type(mydict)"
   ]
  },
  {
   "cell_type": "markdown",
   "metadata": {},
   "source": [
    "# 6.  Numpy\n",
    "NumPy is the fundamental package for scientific computing with Python. "
   ]
  },
  {
   "cell_type": "code",
   "execution_count": null,
   "metadata": {
    "collapsed": true
   },
   "outputs": [],
   "source": [
    "import numpy as np\n",
    "#Create a 1d numpy array\n",
    "#data1 = [6, 7.5, 8, 0, 1]\n",
    "#arr1 = np.array(data1)\n",
    "#arr1\n",
    "\n",
    "#or in a single line\n",
    "#arr1= np.array([6, 7.5, 8, 0, 1])\n",
    "#arr1\n",
    "\n",
    "#Create a 2d numpy array\n",
    "#data2 = [[1, 2, 3, 4], [5, 6, 7, 8]]\n",
    "#arr2 = np.array(data2)\n",
    "#arr2\n",
    "# Get the dimension of the array\n",
    "#arr2.ndim\n",
    "\n",
    "#Display the shape of the array\n",
    "#arr2.shape\n",
    "\n",
    "#Create matrix of 3 x6 matrix of zeros\n",
    "#np.zeros((3, 6))\n",
    "\n",
    "#Create matrix of 4 x 2 matrix of ones\n",
    "#np.ones((4,2))\n",
    "\n",
    "# Create an array of integers\n",
    "#arr2 = np.array([1, 2, 3], dtype=np.int32)\n",
    "#arr2"
   ]
  },
  {
   "cell_type": "markdown",
   "metadata": {},
   "source": [
    "# 7. Some operations on numpy arrays"
   ]
  },
  {
   "cell_type": "code",
   "execution_count": null,
   "metadata": {
    "collapsed": true
   },
   "outputs": [],
   "source": [
    "#Create arrays\n",
    "import numpy as np\n",
    "\n",
    "\n",
    "#G=np.random.randn(10,10)\n",
    "#G\n",
    "#G.mean()\n",
    "\n",
    "#G.var()\n",
    "\n",
    "#Matrix\n",
    "#A=np.array([[1,2],[3,4]])\n",
    "#A"
   ]
  },
  {
   "cell_type": "markdown",
   "metadata": {},
   "source": [
    "# 8. Slicing arrays"
   ]
  },
  {
   "cell_type": "code",
   "execution_count": null,
   "metadata": {
    "collapsed": true
   },
   "outputs": [],
   "source": [
    "#Operations between numpy arrays\n",
    "#arr = np.array([[1., 2., 3.], [4., 5., 6.]])\n",
    "#arr\n",
    "\n",
    "# Add to arrays\n",
    "#arr+arr\n",
    "#arr - arr\n",
    "#arr * arr\n",
    "\n",
    "#Create an array from 0 to 10 using arange\n",
    "#arr = np.arange(10)\n",
    "#print(arr)\n",
    "\n",
    "# Display the 6th element. Index starts at 0\n",
    "arr[5]\n",
    "#\n",
    "#Display from 6th up to 8th\n",
    "#arr[5:8]\n",
    "\n",
    "# Set all elements from 6th to 8 to 12\n",
    "#arr[5:8] = 12\n",
    "arr\n",
    "# You can apply operations over the entire array in a single command\n",
    "#np.sqrt(arr)\n",
    "#np.sin(arr)"
   ]
  },
  {
   "cell_type": "markdown",
   "metadata": {},
   "source": [
    "# 9. Generating sequences"
   ]
  },
  {
   "cell_type": "code",
   "execution_count": null,
   "metadata": {
    "collapsed": true
   },
   "outputs": [],
   "source": [
    "# Generate sequences from start to stop and increase by step\n",
    "#np.arange(2,12,3)\n",
    "\n",
    "# Generate sequence of length between start abd stop\n",
    "#np.linspace(2,12,5)"
   ]
  },
  {
   "cell_type": "markdown",
   "metadata": {},
   "source": [
    "# 10. Generating random numbers\n",
    "This is very useful when trying to simulate certain conditions"
   ]
  },
  {
   "cell_type": "code",
   "execution_count": null,
   "metadata": {
    "collapsed": true
   },
   "outputs": [],
   "source": [
    "#Generating random araays\n",
    "# Generate random numbers from the uniform distribution\n",
    "#np.random.rand(2,4)\n",
    "\n",
    "# Generate random numbers between 0 & 1 from the normal distribution\n",
    "#np.random.randn(2,4)\n",
    "\n",
    "#Generate random integers\n",
    "#np.random.randint?\n",
    "#np.random.randint(3,5,size=6).reshape(2,3)"
   ]
  },
  {
   "cell_type": "markdown",
   "metadata": {},
   "source": [
    "# 11. Reshaping arrays"
   ]
  },
  {
   "cell_type": "code",
   "execution_count": null,
   "metadata": {
    "collapsed": true
   },
   "outputs": [],
   "source": [
    "\n",
    "#arr2d = np.array([[1, 2, 3], [4, 5, 6], [7, 8, 9]])\n",
    "\n",
    "# Reshape as a 5 x 4 matrix\n",
    "#arr2d = np.arange(20)\n",
    "#arr2d\n",
    "#arr2d = np.arange(20).reshape(5,4)\n",
    "#arr2d\n",
    "\n",
    "#Reshape same array as a 2 x 10 matrix\n",
    "#arr2d=arr2d.reshape(2,10)\n",
    "#arr2d.shape\n",
    "#arr2d"
   ]
  },
  {
   "cell_type": "markdown",
   "metadata": {},
   "source": [
    "# 12. Subsetting arrays"
   ]
  },
  {
   "cell_type": "code",
   "execution_count": null,
   "metadata": {
    "collapsed": true
   },
   "outputs": [],
   "source": [
    "#arr2d\n",
    "#arr2d[1,2]\n",
    "\n",
    "print(arr2d)\n",
    "# Slicing arr[startRow:endRow,startColumn:endColumn] --******\n",
    "#arr2d[2:4,1:4]\n",
    "\n",
    "#Slice from the 0th to 3 row and 2 column\n",
    "#arr2d[:3,2]\n",
    "\n",
    "# Slice all rows but only columns 2 & 3\n",
    "#arr2d[:,1:3]\n",
    "\n",
    "# Display all rows and all columns\n",
    "#arr2d[:,:]\n",
    "#np.exp(arr2d)"
   ]
  },
  {
   "cell_type": "markdown",
   "metadata": {},
   "source": [
    "# 12a. Computing sum, mean of arrays"
   ]
  },
  {
   "cell_type": "code",
   "execution_count": null,
   "metadata": {
    "collapsed": true
   },
   "outputs": [],
   "source": [
    "#arr = np.random.randn(4, 8) # normally-distributed data\n",
    "arr.mean()\n",
    "#np.mean(arr)\n",
    "#arr.sum()"
   ]
  },
  {
   "cell_type": "markdown",
   "metadata": {
    "collapsed": true
   },
   "source": [
    "# 13. Pandas \n",
    "Pandas is a Python package providing fast, flexible, and expressive data structures designed to make working with “relational” or “labeled” data both easy and intuitive.\n"
   ]
  },
  {
   "cell_type": "markdown",
   "metadata": {},
   "source": [
    "# 13 a. Pandas Series "
   ]
  },
  {
   "cell_type": "code",
   "execution_count": null,
   "metadata": {
    "collapsed": true
   },
   "outputs": [],
   "source": [
    "import pandas as pd\n",
    "#obj = pd.Series([4, 7, -5, 3])\n",
    "#obj\n",
    "#obj2 = pd.Series([4, 7, -5, 3], index=['d', 'b', 'a', 'c'])\n",
    "#obj2\n",
    "#obj2.index\n",
    "#obj2.values\n",
    "#obj2\n"
   ]
  },
  {
   "cell_type": "markdown",
   "metadata": {},
   "source": [
    "# 14. Pandas dataframes"
   ]
  },
  {
   "cell_type": "code",
   "execution_count": null,
   "metadata": {
    "collapsed": true
   },
   "outputs": [],
   "source": [
    "import pandas as pd\n",
    "data = {'state': ['Ohio', 'Ohio', 'Ohio', 'Nevada', 'Nevada'],\n",
    "        'year': [2000, 2001, 2002, 2001, 2002],\n",
    "        'pop': [1.5, 1.7, 3.6, 2.4, 2.9]}\n",
    "#data\n",
    "#frame = pd.DataFrame(data)\n",
    "#frame\n",
    "#arr = np.arange(20).reshape(4,5)\n",
    "#arr\n",
    "#df=pd.DataFrame(arr)\n",
    "#df\n",
    "#df.shape\n",
    "frame2 = pd.DataFrame(data, columns=['year', 'state', 'pop', 'debt'],\n",
    "                   index=['one', 'two', 'three', 'four', 'five'])\n",
    "#frame2\n",
    "\n",
    "# Important commands on pandas\n",
    "#frame.shape\n",
    "#frame2.info()\n",
    "#frame2.columns"
   ]
  },
  {
   "cell_type": "markdown",
   "metadata": {},
   "source": [
    "# 15. Methods to subset dataframes"
   ]
  },
  {
   "cell_type": "code",
   "execution_count": null,
   "metadata": {
    "collapsed": true
   },
   "outputs": [],
   "source": [
    "# The iloc method allows you to use indices much like an array\n",
    "# Display all rows and the 1st column\n",
    "#print(frame)\n",
    "#frame.iloc[1:3,1:3]\n",
    "#frame.shape\n",
    "\n",
    "# Display rows 2nd to 4th and column 3\n",
    "#frame.iloc[1:4,2:3]\n",
    "\n",
    "#Display row with index=1\n",
    "#frame.loc[1:4]"
   ]
  },
  {
   "cell_type": "code",
   "execution_count": null,
   "metadata": {
    "collapsed": true
   },
   "outputs": [],
   "source": [
    "# 15a. Doing more with Dataframes. Read CSV and XL files"
   ]
  },
  {
   "cell_type": "code",
   "execution_count": null,
   "metadata": {
    "collapsed": true
   },
   "outputs": [],
   "source": [
    "# Read csv\n",
    "#tendulkar=pd.read_csv('tendulkar.csv',encoding = \"ISO-8859-1\")\n",
    "#tendulkar.head()\n",
    "\n",
    "# Read XL\n",
    "#?pd.read_excel\n",
    "#car=pd.read_excel('gascar.xls',sheetname='cardata')\n",
    "#car.head()"
   ]
  },
  {
   "cell_type": "markdown",
   "metadata": {},
   "source": [
    "# 16. Basic Data frame operations"
   ]
  },
  {
   "cell_type": "code",
   "execution_count": null,
   "metadata": {
    "collapsed": true
   },
   "outputs": [],
   "source": [
    "# Display top 10 rows\n",
    "#tendulkar.head()\n",
    "\n",
    "#Display bottom 10 rows\n",
    "#tendulkar.tail()\n",
    "\n",
    "# Display the shape of the dataframe - no of rows and no of columns\n",
    "#tendulkar.shape\n",
    "\n",
    "#Display the column names\n",
    "#tendulkar.columns\n",
    "\n",
    "# Describe the data frame. The columns and the data types of the columns\n",
    "#tendulkar.info()\n",
    "\n",
    "#Rename columns as you find appropriate\n",
    "tendulkar.columns=['No', 'Runs', 'Mins', 'BF', '4s', '6s', 'SR', 'Pos',\n",
    "       'Dismissal', 'Inns', 'Opposition', 'Ground', 'Start Date']\n",
    "#tendulkar.head(10)\n",
    "\n"
   ]
  },
  {
   "cell_type": "markdown",
   "metadata": {},
   "source": [
    "# 17. Cleaning dataframes"
   ]
  },
  {
   "cell_type": "code",
   "execution_count": null,
   "metadata": {
    "collapsed": true
   },
   "outputs": [],
   "source": [
    "# Cleanup of Runs column\n",
    "# Remove rows which have DNB\n",
    "#tendulkar.Runs\n",
    "#a=tendulkar.Runs !=\"DNB\"\n",
    "#tendulkar=tendulkar[a]\n",
    "#tendulkar.shape\n",
    "\n",
    "# Remove rows which have TDNB\n",
    "#b=tendulkar.Runs !=\"TDNB\"\n",
    "#tendulkar=tendulkar[b]\n",
    "#tendulkar.shape\n",
    "\n",
    "# Remove the '*' character\n",
    "#c= tendulkar.BF != \"-\"\n",
    "#tendulkar=tendulkar[c]\n",
    "#tendulkar.Runs= tendulkar.Runs.str.replace(r\"[*]\",\"\")\n",
    "\n",
    "#tendulkar.shape"
   ]
  },
  {
   "cell_type": "markdown",
   "metadata": {},
   "source": [
    "# 18. Filtering rows  and selecting columns"
   ]
  },
  {
   "cell_type": "code",
   "execution_count": null,
   "metadata": {
    "collapsed": true
   },
   "outputs": [],
   "source": [
    "#Subsetting\n",
    "# Select specific columns from tendulkar dataframe\n",
    "#df1=tendulkar[['Runs','BF','Ground']]\n",
    "#df1.head()\n",
    "\n",
    "# Select rwos that meet some condition\n",
    "#a=tendulkar['Ground']=='Karachi'\n",
    "#df2=tendulkar[a]\n",
    "#df2.head()\n",
    "\n",
    "# Filter rows when Groud is Karachi\n",
    "#df2=tendulkar[tendulkar['Ground']=='Karachi']\n",
    "#df2.head()\n",
    "\n",
    "# This line will give an error\n",
    "#b = tendulkar['Runs'] >50\n",
    "#tendulkar3 = tendulkar[b]\n",
    "#tendulkar3.head()\n",
    "\n",
    "# Check the type of 'Runs' column (element 0)\n",
    "#type(tendulkar['Runs'][0])\n",
    "#Convert to numeric. Use tab to see options\n",
    "#tendulkar['Runs']=pd.to_numeric(tendulkar['Runs'])\n",
    "#tendulkar['BF']=pd.to_numeric(tendulkar['BF'])\n",
    "\n",
    "# Check the type of 'Runs' column\n",
    "#type(tendulkar['Runs'][0])\n",
    "#b=tendulkar['Runs']>50\n",
    "\n",
    "#df3=tendulkar[b]\n",
    "\n",
    "#tendulkar.head()\n",
    "# Select only rows where Tendulkar scored more than 50\n",
    "#df3=tendulkar[tendulkar['Runs']>50]\n",
    "#df3.head()\n",
    "#print(tendulkar.head())\n",
    "\n",
    "# Operations on dates\n",
    "#tendulkar['Start Date']\n",
    "#tendulkar['Start Date']=pd.to_datetime(tendulkar['Start Date'])\n",
    "#tendulkar.head()\n",
    "#a=tendulkar['Start Date'] > '01-01-2005'\n",
    "#tendulkar5K=tendulkar[tendulkar['Start Date'] > '01-01-2005']\n",
    "#tendulkar5K.head()\n",
    "\n",
    "# iloc can be used for slicing. Similar to handling numpy arrays\n",
    "#tendulkar.iloc[1:4,2:6]\n",
    "# .loc is used to select rows by index\n",
    "#tendulkar.loc[[2,5]]\n"
   ]
  },
  {
   "cell_type": "code",
   "execution_count": null,
   "metadata": {
    "collapsed": true
   },
   "outputs": [],
   "source": []
  },
  {
   "cell_type": "markdown",
   "metadata": {},
   "source": [
    "# 19. Remove null rows and columns"
   ]
  },
  {
   "cell_type": "code",
   "execution_count": null,
   "metadata": {
    "collapsed": true
   },
   "outputs": [],
   "source": [
    "#Further clean up\n",
    "#a=tendulkar.dropna()\n",
    "#a.shape"
   ]
  },
  {
   "cell_type": "markdown",
   "metadata": {},
   "source": [
    "# 20 Performing common operation on rows grouped by criteria"
   ]
  },
  {
   "cell_type": "code",
   "execution_count": null,
   "metadata": {
    "collapsed": true
   },
   "outputs": [],
   "source": [
    "#Compute mean of column\n",
    "#tendulkar['Runs'].mean()\n",
    "\n",
    "\n",
    "# Group rows by some criteria and perform an operation Groupby\n",
    "#a=tendulkar[['Runs','BF','Ground']].groupby('Ground').mean()\n",
    "#b=a.sort_values('Runs',ascending=False)\n",
    "#b\n",
    "#tendulkar[['Runs','BF','Ground']].groupby('Ground').mean().sort_values('Runs',ascending=False)\n",
    "\n",
    "#tendulkar.head(15)\n",
    "#tendulkar[['Runs','BF','Opposition']].groupby('Opposition').mean().sort_values('Runs',ascending=False)\n",
    "\n",
    "# You can add all the commands in a single line \n",
    "#a=tendulkar[['Runs','BF','Ground']].groupby('Ground').mean().sort_values('Runs',ascending=False)\n",
    "#a\n",
    "\n",
    "#Compute mean and average of Runs and Balls faced\n",
    "#a=tendulkar[['Runs','BF','Ground']].groupby('Ground').agg(['sum','mean','count'])\n"
   ]
  },
  {
   "cell_type": "markdown",
   "metadata": {},
   "source": [
    "# 21 Lambda and Map operations"
   ]
  },
  {
   "cell_type": "code",
   "execution_count": null,
   "metadata": {
    "collapsed": true
   },
   "outputs": [],
   "source": [
    "# Python - Operations on list\n",
    "#a =[5,2,3,1,7]\n",
    "#b =[1,5,4,6,8]\n",
    "\n",
    "# On seperate lines\n",
    "#add=lambda x,y:x+y\n",
    "#list(map(add,a,b))\n",
    "\n",
    "#or\n",
    "#Element wise addition with map & lambda\n",
    "#print(list(map(lambda x,y: x+y,a,b)))\n",
    "#Element wise subtraction\n",
    "#print(list(map(lambda x,y: x-y,a,b)))\n",
    "#Element wise product\n",
    "#print(list(map(lambda x,y: x*y,a,b)))\n",
    "# Exponentiating the elements of a list\n",
    "#print(list(map(lambda x: x**2,a)))"
   ]
  },
  {
   "cell_type": "code",
   "execution_count": null,
   "metadata": {
    "collapsed": true
   },
   "outputs": [],
   "source": [
    "#tendulkar\n",
    "#sum = lambda x, y : x + y\n",
    "#sum(3,4)\n",
    "#tendulkar['4s']=pd.to_numeric(tendulkar['4s'])\n",
    "#tendulkar['4s'].apply(lambda x:4*x)\n",
    "\n",
    "# using lamda to compute a sauare\n",
    "#items = [1, 2, 3, 4, 5]\n",
    "#squared = list(map(lambda x: x**2, items))   \n",
    "#squared\n",
    "\n",
    "# Convert Celsius to Fahrenheit\n",
    "#Celsius = [39.2, 36.5, 37.3, 37.8]\n",
    "#Fahrenheit = list(map(lambda x: (float(9)/5)*x + 32, Celsius))\n",
    "#Fahrenheit\n"
   ]
  },
  {
   "cell_type": "markdown",
   "metadata": {},
   "source": [
    "# 21 a Python functions"
   ]
  },
  {
   "cell_type": "code",
   "execution_count": null,
   "metadata": {
    "collapsed": true
   },
   "outputs": [],
   "source": [
    "#def product(x,y):\n",
    "#    value=x*y\n",
    "#    return(value)\n",
    "\n",
    "#product(8,9)"
   ]
  },
  {
   "cell_type": "markdown",
   "metadata": {},
   "source": [
    "# 22. Some basic plots"
   ]
  },
  {
   "cell_type": "code",
   "execution_count": null,
   "metadata": {
    "collapsed": true
   },
   "outputs": [],
   "source": [
    "import matplotlib.pyplot as plt\n",
    "# Scatter plot\n",
    "%pylab inline\n",
    "pylab.rcParams['figure.figsize'] = (10, 6)\n",
    "#plt.scatter(tendulkar.BF,tendulkar.Runs)\n",
    "#plt.suptitle('Tendulkars Runs vs Balls faced', fontsize=20)\n",
    "#plt.xlabel('Balls faced', fontsize=18)\n",
    "#plt.ylabel('Runs', fontsize=16)\n",
    "\n",
    "#plt.show()\n",
    "\n"
   ]
  },
  {
   "cell_type": "code",
   "execution_count": null,
   "metadata": {
    "collapsed": true
   },
   "outputs": [],
   "source": [
    "# Histogram\n",
    "%pylab inline\n",
    "pylab.rcParams['figure.figsize'] = (10, 6)\n",
    "#plt.hist(tendulkar['Runs'])\n",
    "#plt.suptitle('Tendulkars histogram of Runs ', fontsize=20)\n",
    "#plt.xlabel('Frequency', fontsize=18)\n",
    "#plt.ylabel('Runs', fontsize=16)\n",
    "#plt.show()"
   ]
  }
 ],
 "metadata": {
  "kernelspec": {
   "display_name": "Python 3",
   "language": "python",
   "name": "python3"
  },
  "language_info": {
   "codemirror_mode": {
    "name": "ipython",
    "version": 3
   },
   "file_extension": ".py",
   "mimetype": "text/x-python",
   "name": "python",
   "nbconvert_exporter": "python",
   "pygments_lexer": "ipython3",
   "version": "3.6.1"
  }
 },
 "nbformat": 4,
 "nbformat_minor": 2
}
